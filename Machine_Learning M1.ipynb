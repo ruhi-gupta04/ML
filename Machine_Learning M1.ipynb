{
  "cells": [
    {
      "metadata": {
        "trusted": true
      },
      "cell_type": "code",
      "source": "import pandas as pd",
      "execution_count": 1,
      "outputs": []
    },
    {
      "metadata": {
        "trusted": true
      },
      "cell_type": "code",
      "source": "df=pd.read_csv(\"car data.csv\")",
      "execution_count": 2,
      "outputs": []
    },
    {
      "metadata": {
        "trusted": true
      },
      "cell_type": "code",
      "source": "df.dtypes",
      "execution_count": 3,
      "outputs": [
        {
          "output_type": "execute_result",
          "execution_count": 3,
          "data": {
            "text/plain": "Car_Name          object\nYear               int64\nSelling_Price    float64\nPresent_Price    float64\nKms_Driven         int64\nFuel_Type         object\nSeller_Type       object\nTransmission      object\nOwner              int64\ndtype: object"
          },
          "metadata": {}
        }
      ]
    },
    {
      "metadata": {
        "trusted": true
      },
      "cell_type": "code",
      "source": "df.isnull().sum()",
      "execution_count": 4,
      "outputs": [
        {
          "output_type": "execute_result",
          "execution_count": 4,
          "data": {
            "text/plain": "Car_Name         0\nYear             0\nSelling_Price    0\nPresent_Price    0\nKms_Driven       0\nFuel_Type        0\nSeller_Type      0\nTransmission     0\nOwner            0\ndtype: int64"
          },
          "metadata": {}
        }
      ]
    },
    {
      "metadata": {
        "trusted": true
      },
      "cell_type": "code",
      "source": "#Checking values of each variable\n\n#df[\"Car_Name\"].value_counts()\n# df[\"Year\"].value_counts()\n# df[\"Selling_Price\"].value_counts()\n# df[\"Present_Price\"].value_counts()\n# df[\"Kms_Driven\"].value_counts()\ndf[\"Fuel_Type\"].value_counts()\n#df[\"Seller_Type\"].value_counts()\n#df[\"Transmission\"].value_counts()\n#df[\"Owner\"].value_counts()",
      "execution_count": 5,
      "outputs": [
        {
          "output_type": "execute_result",
          "execution_count": 5,
          "data": {
            "text/plain": "Petrol    239\nDiesel     60\nCNG         2\nName: Fuel_Type, dtype: int64"
          },
          "metadata": {}
        }
      ]
    },
    {
      "metadata": {
        "trusted": true
      },
      "cell_type": "code",
      "source": "X=df.drop([\"Car_Name\"],1)\n# X=X.drop([\"Owner\"],1)\nX=X.drop([\"Selling_Price\"],1)\nY=df[\"Selling_Price\"]",
      "execution_count": 10,
      "outputs": []
    },
    {
      "metadata": {
        "trusted": true
      },
      "cell_type": "code",
      "source": "import numpy as np\nnumber=X.select_dtypes(include=np.number)\ncategorical=X.select_dtypes(exclude=np.number)",
      "execution_count": 11,
      "outputs": []
    },
    {
      "metadata": {
        "trusted": true
      },
      "cell_type": "code",
      "source": "categorical=pd.get_dummies(categorical)",
      "execution_count": 12,
      "outputs": []
    },
    {
      "metadata": {
        "trusted": true
      },
      "cell_type": "code",
      "source": "X=pd.concat((number,categorical),1)",
      "execution_count": 13,
      "outputs": []
    },
    {
      "metadata": {
        "trusted": true
      },
      "cell_type": "code",
      "source": "X.head()",
      "execution_count": 15,
      "outputs": [
        {
          "output_type": "execute_result",
          "execution_count": 15,
          "data": {
            "text/html": "<div>\n<style scoped>\n    .dataframe tbody tr th:only-of-type {\n        vertical-align: middle;\n    }\n\n    .dataframe tbody tr th {\n        vertical-align: top;\n    }\n\n    .dataframe thead th {\n        text-align: right;\n    }\n</style>\n<table border=\"1\" class=\"dataframe\">\n  <thead>\n    <tr style=\"text-align: right;\">\n      <th></th>\n      <th>Year</th>\n      <th>Present_Price</th>\n      <th>Kms_Driven</th>\n      <th>Owner</th>\n      <th>Fuel_Type_CNG</th>\n      <th>Fuel_Type_Diesel</th>\n      <th>Fuel_Type_Petrol</th>\n      <th>Seller_Type_Dealer</th>\n      <th>Seller_Type_Individual</th>\n      <th>Transmission_Automatic</th>\n      <th>Transmission_Manual</th>\n    </tr>\n  </thead>\n  <tbody>\n    <tr>\n      <th>0</th>\n      <td>2014</td>\n      <td>5.59</td>\n      <td>27000</td>\n      <td>0</td>\n      <td>0</td>\n      <td>0</td>\n      <td>1</td>\n      <td>1</td>\n      <td>0</td>\n      <td>0</td>\n      <td>1</td>\n    </tr>\n    <tr>\n      <th>1</th>\n      <td>2013</td>\n      <td>9.54</td>\n      <td>43000</td>\n      <td>0</td>\n      <td>0</td>\n      <td>1</td>\n      <td>0</td>\n      <td>1</td>\n      <td>0</td>\n      <td>0</td>\n      <td>1</td>\n    </tr>\n    <tr>\n      <th>2</th>\n      <td>2017</td>\n      <td>9.85</td>\n      <td>6900</td>\n      <td>0</td>\n      <td>0</td>\n      <td>0</td>\n      <td>1</td>\n      <td>1</td>\n      <td>0</td>\n      <td>0</td>\n      <td>1</td>\n    </tr>\n    <tr>\n      <th>3</th>\n      <td>2011</td>\n      <td>4.15</td>\n      <td>5200</td>\n      <td>0</td>\n      <td>0</td>\n      <td>0</td>\n      <td>1</td>\n      <td>1</td>\n      <td>0</td>\n      <td>0</td>\n      <td>1</td>\n    </tr>\n    <tr>\n      <th>4</th>\n      <td>2014</td>\n      <td>6.87</td>\n      <td>42450</td>\n      <td>0</td>\n      <td>0</td>\n      <td>1</td>\n      <td>0</td>\n      <td>1</td>\n      <td>0</td>\n      <td>0</td>\n      <td>1</td>\n    </tr>\n  </tbody>\n</table>\n</div>",
            "text/plain": "   Year  Present_Price  Kms_Driven  Owner  Fuel_Type_CNG  Fuel_Type_Diesel  \\\n0  2014           5.59       27000      0              0                 0   \n1  2013           9.54       43000      0              0                 1   \n2  2017           9.85        6900      0              0                 0   \n3  2011           4.15        5200      0              0                 0   \n4  2014           6.87       42450      0              0                 1   \n\n   Fuel_Type_Petrol  Seller_Type_Dealer  Seller_Type_Individual  \\\n0                 1                   1                       0   \n1                 0                   1                       0   \n2                 1                   1                       0   \n3                 1                   1                       0   \n4                 0                   1                       0   \n\n   Transmission_Automatic  Transmission_Manual  \n0                       0                    1  \n1                       0                    1  \n2                       0                    1  \n3                       0                    1  \n4                       0                    1  "
          },
          "metadata": {}
        }
      ]
    },
    {
      "metadata": {
        "trusted": true
      },
      "cell_type": "code",
      "source": "from sklearn.linear_model import LinearRegression\nfrom sklearn.model_selection import train_test_split as tts\nfrom sklearn.metrics import r2_score",
      "execution_count": 16,
      "outputs": []
    },
    {
      "metadata": {
        "trusted": true
      },
      "cell_type": "code",
      "source": "x_train,x_test,y_train,y_test=tts(X,Y,test_size=0.3, random_state=42)",
      "execution_count": 19,
      "outputs": []
    },
    {
      "metadata": {
        "trusted": true
      },
      "cell_type": "code",
      "source": "reg=LinearRegression()\nreg.fit(x_train,y_train)\ny_pred=reg.predict(x_test)\nr2_score(y_test,y_pred)",
      "execution_count": 20,
      "outputs": [
        {
          "output_type": "execute_result",
          "execution_count": 20,
          "data": {
            "text/plain": "0.875615524620464"
          },
          "metadata": {}
        }
      ]
    },
    {
      "metadata": {
        "trusted": true
      },
      "cell_type": "code",
      "source": "from sklearn.feature_selection import RFE",
      "execution_count": 21,
      "outputs": []
    },
    {
      "metadata": {
        "trusted": true
      },
      "cell_type": "code",
      "source": "rfe = RFE(reg,9)\nrfe = rfe.fit(X,Y)\nrfe.support_",
      "execution_count": 59,
      "outputs": [
        {
          "output_type": "execute_result",
          "execution_count": 59,
          "data": {
            "text/plain": "array([False,  True,  True, False,  True,  True,  True, False,  True,\n        True,  True,  True])"
          },
          "metadata": {}
        }
      ]
    },
    {
      "metadata": {
        "trusted": true
      },
      "cell_type": "code",
      "source": "cols=list(X)\ncols=pd.Series(cols)\ncols[rfe.support_]",
      "execution_count": 60,
      "outputs": [
        {
          "output_type": "execute_result",
          "execution_count": 60,
          "data": {
            "text/plain": "1                       Year\n2              Present_Price\n4                      Owner\n5              Fuel_Type_CNG\n6           Fuel_Type_Diesel\n8         Seller_Type_Dealer\n9     Seller_Type_Individual\n10    Transmission_Automatic\n11       Transmission_Manual\ndtype: object"
          },
          "metadata": {}
        }
      ]
    },
    {
      "metadata": {
        "trusted": true
      },
      "cell_type": "code",
      "source": "features=[\"Year\",\"Present_Price\",\"Owner\",\"Fuel_Type_CNG\",\"Fuel_Type_Diesel\",\"Seller_Type_Dealer\",\"Seller_Type_Individual\",\"Transmission_Automatic\",\"Transmission_Manual\"]\n#features=[\"Year\",\"Present_Price\"]",
      "execution_count": 61,
      "outputs": []
    },
    {
      "metadata": {
        "trusted": true
      },
      "cell_type": "code",
      "source": "reg.fit(x_train[features],y_train)\ny_pred=reg.predict(x_test[features])\nr2_score(y_test,y_pred)",
      "execution_count": 58,
      "outputs": [
        {
          "output_type": "execute_result",
          "execution_count": 58,
          "data": {
            "text/plain": "0.8726630442403764"
          },
          "metadata": {}
        }
      ]
    },
    {
      "metadata": {
        "trusted": true
      },
      "cell_type": "code",
      "source": "import statsmodels.api as sm\nX = sm.add_constant(X)\nmodel = sm.OLS(Y,X).fit()\nmodel.summary()",
      "execution_count": 43,
      "outputs": [
        {
          "output_type": "execute_result",
          "execution_count": 43,
          "data": {
            "text/html": "<table class=\"simpletable\">\n<caption>OLS Regression Results</caption>\n<tr>\n  <th>Dep. Variable:</th>      <td>Selling_Price</td>  <th>  R-squared:         </th> <td>   0.883</td> \n</tr>\n<tr>\n  <th>Model:</th>                   <td>OLS</td>       <th>  Adj. R-squared:    </th> <td>   0.879</td> \n</tr>\n<tr>\n  <th>Method:</th>             <td>Least Squares</td>  <th>  F-statistic:       </th> <td>   274.3</td> \n</tr>\n<tr>\n  <th>Date:</th>             <td>Mon, 25 Mar 2019</td> <th>  Prob (F-statistic):</th> <td>5.71e-131</td>\n</tr>\n<tr>\n  <th>Time:</th>                 <td>14:57:24</td>     <th>  Log-Likelihood:    </th> <td> -593.62</td> \n</tr>\n<tr>\n  <th>No. Observations:</th>      <td>   301</td>      <th>  AIC:               </th> <td>   1205.</td> \n</tr>\n<tr>\n  <th>Df Residuals:</th>          <td>   292</td>      <th>  BIC:               </th> <td>   1239.</td> \n</tr>\n<tr>\n  <th>Df Model:</th>              <td>     8</td>      <th>                     </th>     <td> </td>    \n</tr>\n<tr>\n  <th>Covariance Type:</th>      <td>nonrobust</td>    <th>                     </th>     <td> </td>    \n</tr>\n</table>\n<table class=\"simpletable\">\n<tr>\n             <td></td>               <th>coef</th>     <th>std err</th>      <th>t</th>      <th>P>|t|</th>  <th>[0.025</th>    <th>0.975]</th>  \n</tr>\n<tr>\n  <th>const</th>                  <td> -338.3552</td> <td>   37.076</td> <td>   -9.126</td> <td> 0.000</td> <td> -411.326</td> <td> -265.384</td>\n</tr>\n<tr>\n  <th>Year</th>                   <td>    0.3931</td> <td>    0.043</td> <td>    9.159</td> <td> 0.000</td> <td>    0.309</td> <td>    0.478</td>\n</tr>\n<tr>\n  <th>Present_Price</th>          <td>    0.4372</td> <td>    0.016</td> <td>   27.355</td> <td> 0.000</td> <td>    0.406</td> <td>    0.469</td>\n</tr>\n<tr>\n  <th>Kms_Driven</th>             <td>-7.013e-06</td> <td> 3.23e-06</td> <td>   -2.172</td> <td> 0.031</td> <td>-1.34e-05</td> <td>-6.57e-07</td>\n</tr>\n<tr>\n  <th>Owner</th>                  <td>   -0.6742</td> <td>    0.423</td> <td>   -1.595</td> <td> 0.112</td> <td>   -1.506</td> <td>    0.158</td>\n</tr>\n<tr>\n  <th>Fuel_Type_CNG</th>          <td> -113.8109</td> <td>   12.367</td> <td>   -9.203</td> <td> 0.000</td> <td> -138.151</td> <td>  -89.470</td>\n</tr>\n<tr>\n  <th>Fuel_Type_Diesel</th>       <td> -111.3410</td> <td>   12.402</td> <td>   -8.978</td> <td> 0.000</td> <td> -135.749</td> <td>  -86.933</td>\n</tr>\n<tr>\n  <th>Fuel_Type_Petrol</th>       <td> -113.2033</td> <td>   12.352</td> <td>   -9.165</td> <td> 0.000</td> <td> -137.513</td> <td>  -88.893</td>\n</tr>\n<tr>\n  <th>Seller_Type_Dealer</th>     <td> -168.6169</td> <td>   18.546</td> <td>   -9.092</td> <td> 0.000</td> <td> -205.118</td> <td> -132.116</td>\n</tr>\n<tr>\n  <th>Seller_Type_Individual</th> <td> -169.7383</td> <td>   18.531</td> <td>   -9.160</td> <td> 0.000</td> <td> -206.210</td> <td> -133.267</td>\n</tr>\n<tr>\n  <th>Transmission_Automatic</th> <td> -168.4535</td> <td>   18.558</td> <td>   -9.077</td> <td> 0.000</td> <td> -204.977</td> <td> -131.930</td>\n</tr>\n<tr>\n  <th>Transmission_Manual</th>    <td> -169.9017</td> <td>   18.520</td> <td>   -9.174</td> <td> 0.000</td> <td> -206.351</td> <td> -133.452</td>\n</tr>\n</table>\n<table class=\"simpletable\">\n<tr>\n  <th>Omnibus:</th>       <td>95.107</td> <th>  Durbin-Watson:     </th> <td>   1.795</td> \n</tr>\n<tr>\n  <th>Prob(Omnibus):</th> <td> 0.000</td> <th>  Jarque-Bera (JB):  </th> <td> 696.392</td> \n</tr>\n<tr>\n  <th>Skew:</th>          <td> 1.075</td> <th>  Prob(JB):          </th> <td>6.03e-152</td>\n</tr>\n<tr>\n  <th>Kurtosis:</th>      <td>10.135</td> <th>  Cond. No.          </th> <td>6.51e+20</td> \n</tr>\n</table><br/><br/>Warnings:<br/>[1] Standard Errors assume that the covariance matrix of the errors is correctly specified.<br/>[2] The smallest eigenvalue is 2.04e-30. This might indicate that there are<br/>strong multicollinearity problems or that the design matrix is singular.",
            "text/plain": "<class 'statsmodels.iolib.summary.Summary'>\n\"\"\"\n                            OLS Regression Results                            \n==============================================================================\nDep. Variable:          Selling_Price   R-squared:                       0.883\nModel:                            OLS   Adj. R-squared:                  0.879\nMethod:                 Least Squares   F-statistic:                     274.3\nDate:                Mon, 25 Mar 2019   Prob (F-statistic):          5.71e-131\nTime:                        14:57:24   Log-Likelihood:                -593.62\nNo. Observations:                 301   AIC:                             1205.\nDf Residuals:                     292   BIC:                             1239.\nDf Model:                           8                                         \nCovariance Type:            nonrobust                                         \n==========================================================================================\n                             coef    std err          t      P>|t|      [0.025      0.975]\n------------------------------------------------------------------------------------------\nconst                   -338.3552     37.076     -9.126      0.000    -411.326    -265.384\nYear                       0.3931      0.043      9.159      0.000       0.309       0.478\nPresent_Price              0.4372      0.016     27.355      0.000       0.406       0.469\nKms_Driven             -7.013e-06   3.23e-06     -2.172      0.031   -1.34e-05   -6.57e-07\nOwner                     -0.6742      0.423     -1.595      0.112      -1.506       0.158\nFuel_Type_CNG           -113.8109     12.367     -9.203      0.000    -138.151     -89.470\nFuel_Type_Diesel        -111.3410     12.402     -8.978      0.000    -135.749     -86.933\nFuel_Type_Petrol        -113.2033     12.352     -9.165      0.000    -137.513     -88.893\nSeller_Type_Dealer      -168.6169     18.546     -9.092      0.000    -205.118    -132.116\nSeller_Type_Individual  -169.7383     18.531     -9.160      0.000    -206.210    -133.267\nTransmission_Automatic  -168.4535     18.558     -9.077      0.000    -204.977    -131.930\nTransmission_Manual     -169.9017     18.520     -9.174      0.000    -206.351    -133.452\n==============================================================================\nOmnibus:                       95.107   Durbin-Watson:                   1.795\nProb(Omnibus):                  0.000   Jarque-Bera (JB):              696.392\nSkew:                           1.075   Prob(JB):                    6.03e-152\nKurtosis:                      10.135   Cond. No.                     6.51e+20\n==============================================================================\n\nWarnings:\n[1] Standard Errors assume that the covariance matrix of the errors is correctly specified.\n[2] The smallest eigenvalue is 2.04e-30. This might indicate that there are\nstrong multicollinearity problems or that the design matrix is singular.\n\"\"\""
          },
          "metadata": {}
        }
      ]
    },
    {
      "metadata": {
        "trusted": true
      },
      "cell_type": "code",
      "source": "X = X.drop([\"const\"],1)",
      "execution_count": 28,
      "outputs": []
    },
    {
      "metadata": {
        "trusted": true
      },
      "cell_type": "code",
      "source": "cols = list(X)\np_max = 1\nwhile (len(cols)>0):\n    p=[]\n    X_1= X[cols]\n    X_1 = sm.add_constant(X_1)\n    model = sm.OLS(Y,X_1).fit()\n    p = list(model.pvalues.values[1:])\n    p = pd.Series(p,index = cols)\n    p_max = max(p)\n    features_with_p_max = p.idxmax()\n    if (p_max>0.05):\n        cols.remove(features_with_p_max)\n    else:\n        break\nselected_features = cols",
      "execution_count": 29,
      "outputs": []
    },
    {
      "metadata": {
        "trusted": true
      },
      "cell_type": "code",
      "source": "selected_features",
      "execution_count": 30,
      "outputs": [
        {
          "output_type": "execute_result",
          "execution_count": 30,
          "data": {
            "text/plain": "['Year',\n 'Present_Price',\n 'Kms_Driven',\n 'Fuel_Type_CNG',\n 'Fuel_Type_Diesel',\n 'Fuel_Type_Petrol',\n 'Seller_Type_Dealer',\n 'Seller_Type_Individual',\n 'Transmission_Automatic',\n 'Transmission_Manual']"
          },
          "metadata": {}
        }
      ]
    },
    {
      "metadata": {
        "trusted": true
      },
      "cell_type": "code",
      "source": "features_sm=[\"Year\",\"Present_Price\",\"Kms_Driven\",\"Fuel_Type_CNG\",\"Fuel_Type_Diesel\",\"Fuel_Type_Petrol\",\"Seller_Type_Dealer\",\"Seller_Type_Individual\",\"Transmission_Automatic\",\"Transmission_Manual\"]",
      "execution_count": 34,
      "outputs": []
    },
    {
      "metadata": {
        "trusted": true
      },
      "cell_type": "code",
      "source": "reg=LinearRegression()\nreg.fit(x_train[features_sm],y_train)\ny_pred=reg.predict(x_test[features_sm])\nr2_score(y_test,y_pred)",
      "execution_count": 35,
      "outputs": [
        {
          "output_type": "execute_result",
          "execution_count": 35,
          "data": {
            "text/plain": "0.8766760433281522"
          },
          "metadata": {}
        }
      ]
    },
    {
      "metadata": {
        "trusted": true
      },
      "cell_type": "code",
      "source": "",
      "execution_count": null,
      "outputs": []
    },
    {
      "metadata": {
        "trusted": true
      },
      "cell_type": "code",
      "source": "",
      "execution_count": null,
      "outputs": []
    }
  ],
  "metadata": {
    "kernelspec": {
      "name": "python36",
      "display_name": "Python 3.6",
      "language": "python"
    },
    "language_info": {
      "mimetype": "text/x-python",
      "nbconvert_exporter": "python",
      "name": "python",
      "pygments_lexer": "ipython3",
      "version": "3.6.6",
      "file_extension": ".py",
      "codemirror_mode": {
        "version": 3,
        "name": "ipython"
      }
    }
  },
  "nbformat": 4,
  "nbformat_minor": 2
}