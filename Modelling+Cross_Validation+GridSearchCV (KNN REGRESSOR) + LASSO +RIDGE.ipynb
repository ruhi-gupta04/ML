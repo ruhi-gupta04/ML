{
  "cells": [
    {
      "metadata": {
        "trusted": true
      },
      "cell_type": "code",
      "source": "import os",
      "execution_count": 16,
      "outputs": []
    },
    {
      "metadata": {
        "trusted": true
      },
      "cell_type": "code",
      "source": "import pandas as pd",
      "execution_count": 17,
      "outputs": []
    },
    {
      "metadata": {
        "trusted": true
      },
      "cell_type": "code",
      "source": "df = pd.read_csv(\"~/library/gapminder.csv\")\ndf.head()",
      "execution_count": 18,
      "outputs": [
        {
          "output_type": "execute_result",
          "execution_count": 18,
          "data": {
            "text/html": "<div>\n<style scoped>\n    .dataframe tbody tr th:only-of-type {\n        vertical-align: middle;\n    }\n\n    .dataframe tbody tr th {\n        vertical-align: top;\n    }\n\n    .dataframe thead th {\n        text-align: right;\n    }\n</style>\n<table border=\"1\" class=\"dataframe\">\n  <thead>\n    <tr style=\"text-align: right;\">\n      <th></th>\n      <th>population</th>\n      <th>fertility</th>\n      <th>HIV</th>\n      <th>CO2</th>\n      <th>BMI_male</th>\n      <th>GDP</th>\n      <th>BMI_female</th>\n      <th>life</th>\n      <th>child_mortality</th>\n      <th>Region</th>\n    </tr>\n  </thead>\n  <tbody>\n    <tr>\n      <th>0</th>\n      <td>34811059.0</td>\n      <td>2.73</td>\n      <td>0.1</td>\n      <td>3.328945</td>\n      <td>24.59620</td>\n      <td>12314.0</td>\n      <td>129.9049</td>\n      <td>75.3</td>\n      <td>29.5</td>\n      <td>Middle East &amp; North Africa</td>\n    </tr>\n    <tr>\n      <th>1</th>\n      <td>19842251.0</td>\n      <td>6.43</td>\n      <td>2.0</td>\n      <td>1.474353</td>\n      <td>22.25083</td>\n      <td>7103.0</td>\n      <td>130.1247</td>\n      <td>58.3</td>\n      <td>192.0</td>\n      <td>Sub-Saharan Africa</td>\n    </tr>\n    <tr>\n      <th>2</th>\n      <td>40381860.0</td>\n      <td>2.24</td>\n      <td>0.5</td>\n      <td>4.785170</td>\n      <td>27.50170</td>\n      <td>14646.0</td>\n      <td>118.8915</td>\n      <td>75.5</td>\n      <td>15.4</td>\n      <td>America</td>\n    </tr>\n    <tr>\n      <th>3</th>\n      <td>2975029.0</td>\n      <td>1.40</td>\n      <td>0.1</td>\n      <td>1.804106</td>\n      <td>25.35542</td>\n      <td>7383.0</td>\n      <td>132.8108</td>\n      <td>72.5</td>\n      <td>20.0</td>\n      <td>Europe &amp; Central Asia</td>\n    </tr>\n    <tr>\n      <th>4</th>\n      <td>21370348.0</td>\n      <td>1.96</td>\n      <td>0.1</td>\n      <td>18.016313</td>\n      <td>27.56373</td>\n      <td>41312.0</td>\n      <td>117.3755</td>\n      <td>81.5</td>\n      <td>5.2</td>\n      <td>East Asia &amp; Pacific</td>\n    </tr>\n  </tbody>\n</table>\n</div>",
            "text/plain": "   population  fertility  HIV        CO2  BMI_male      GDP  BMI_female  life  \\\n0  34811059.0       2.73  0.1   3.328945  24.59620  12314.0    129.9049  75.3   \n1  19842251.0       6.43  2.0   1.474353  22.25083   7103.0    130.1247  58.3   \n2  40381860.0       2.24  0.5   4.785170  27.50170  14646.0    118.8915  75.5   \n3   2975029.0       1.40  0.1   1.804106  25.35542   7383.0    132.8108  72.5   \n4  21370348.0       1.96  0.1  18.016313  27.56373  41312.0    117.3755  81.5   \n\n   child_mortality                      Region  \n0             29.5  Middle East & North Africa  \n1            192.0          Sub-Saharan Africa  \n2             15.4                     America  \n3             20.0       Europe & Central Asia  \n4              5.2         East Asia & Pacific  "
          },
          "metadata": {}
        }
      ]
    },
    {
      "metadata": {
        "trusted": true
      },
      "cell_type": "code",
      "source": "df.dtypes",
      "execution_count": 19,
      "outputs": [
        {
          "output_type": "execute_result",
          "execution_count": 19,
          "data": {
            "text/plain": "population         float64\nfertility          float64\nHIV                float64\nCO2                float64\nBMI_male           float64\nGDP                float64\nBMI_female         float64\nlife               float64\nchild_mortality    float64\nRegion              object\ndtype: object"
          },
          "metadata": {}
        }
      ]
    },
    {
      "metadata": {
        "trusted": true
      },
      "cell_type": "code",
      "source": "import numpy as np",
      "execution_count": 20,
      "outputs": []
    },
    {
      "metadata": {
        "trusted": true
      },
      "cell_type": "code",
      "source": "features_by_filter_method=[\"HIV\",\"GDP\",\"BMI_female\",\"child_mortality\"]",
      "execution_count": 21,
      "outputs": []
    },
    {
      "metadata": {
        "trusted": true
      },
      "cell_type": "code",
      "source": "x=df.drop([\"life\"],1)\ny=df[\"life\"] ",
      "execution_count": 22,
      "outputs": []
    },
    {
      "metadata": {
        "trusted": true
      },
      "cell_type": "code",
      "source": "numerical=x.select_dtypes(include=np.number)\ncategorical=x.select_dtypes(exclude=np.number)\ncategorical=pd.get_dummies(categorical)",
      "execution_count": 28,
      "outputs": []
    },
    {
      "metadata": {
        "trusted": true
      },
      "cell_type": "code",
      "source": "categorical.head()",
      "execution_count": 29,
      "outputs": [
        {
          "output_type": "execute_result",
          "execution_count": 29,
          "data": {
            "text/html": "<div>\n<style scoped>\n    .dataframe tbody tr th:only-of-type {\n        vertical-align: middle;\n    }\n\n    .dataframe tbody tr th {\n        vertical-align: top;\n    }\n\n    .dataframe thead th {\n        text-align: right;\n    }\n</style>\n<table border=\"1\" class=\"dataframe\">\n  <thead>\n    <tr style=\"text-align: right;\">\n      <th></th>\n      <th>Region_America</th>\n      <th>Region_East Asia &amp; Pacific</th>\n      <th>Region_Europe &amp; Central Asia</th>\n      <th>Region_Middle East &amp; North Africa</th>\n      <th>Region_South Asia</th>\n      <th>Region_Sub-Saharan Africa</th>\n    </tr>\n  </thead>\n  <tbody>\n    <tr>\n      <th>0</th>\n      <td>0</td>\n      <td>0</td>\n      <td>0</td>\n      <td>1</td>\n      <td>0</td>\n      <td>0</td>\n    </tr>\n    <tr>\n      <th>1</th>\n      <td>0</td>\n      <td>0</td>\n      <td>0</td>\n      <td>0</td>\n      <td>0</td>\n      <td>1</td>\n    </tr>\n    <tr>\n      <th>2</th>\n      <td>1</td>\n      <td>0</td>\n      <td>0</td>\n      <td>0</td>\n      <td>0</td>\n      <td>0</td>\n    </tr>\n    <tr>\n      <th>3</th>\n      <td>0</td>\n      <td>0</td>\n      <td>1</td>\n      <td>0</td>\n      <td>0</td>\n      <td>0</td>\n    </tr>\n    <tr>\n      <th>4</th>\n      <td>0</td>\n      <td>1</td>\n      <td>0</td>\n      <td>0</td>\n      <td>0</td>\n      <td>0</td>\n    </tr>\n  </tbody>\n</table>\n</div>",
            "text/plain": "   Region_America  Region_East Asia & Pacific  Region_Europe & Central Asia  \\\n0               0                           0                             0   \n1               0                           0                             0   \n2               1                           0                             0   \n3               0                           0                             1   \n4               0                           1                             0   \n\n   Region_Middle East & North Africa  Region_South Asia  \\\n0                                  1                  0   \n1                                  0                  0   \n2                                  0                  0   \n3                                  0                  0   \n4                                  0                  0   \n\n   Region_Sub-Saharan Africa  \n0                          0  \n1                          1  \n2                          0  \n3                          0  \n4                          0  "
          },
          "metadata": {}
        }
      ]
    },
    {
      "metadata": {
        "trusted": true
      },
      "cell_type": "code",
      "source": "#annot=False will givw only the colours not the values\nimport seaborn as sns\nsns.heatmap(numerical_df.corr(),annot=True)",
      "execution_count": 12,
      "outputs": [
        {
          "output_type": "execute_result",
          "execution_count": 12,
          "data": {
            "text/plain": "<matplotlib.axes._subplots.AxesSubplot at 0x7f3fabfb5048>"
          },
          "metadata": {}
        }
      ]
    },
    {
      "metadata": {
        "trusted": true
      },
      "cell_type": "code",
      "source": "from sklearn.preprocessing import MinMaxScaler\nscaler=MinMaxScaler()\n#scaler.fit_transform() gives output as numpy array so store the column names before hand to prevent loss\ncol_names=list(numerical)\nnumerical=scaler.fit_transform(numerical)",
      "execution_count": 30,
      "outputs": []
    },
    {
      "metadata": {
        "trusted": true
      },
      "cell_type": "code",
      "source": "numerical",
      "execution_count": 32,
      "outputs": [
        {
          "output_type": "execute_result",
          "execution_count": 32,
          "data": {
            "text/plain": "array([[0.02885524, 0.22979398, 0.00154799, ..., 0.0934432 , 0.69160158,\n        0.14157422],\n       [0.01634781, 0.81616482, 0.0750774 , ..., 0.05191731, 0.70373416,\n        1.        ],\n       [0.03351002, 0.15213946, 0.01702786, ..., 0.11202665, 0.08368062,\n        0.06708928],\n       ...,\n       [0.07211944, 0.09191759, 0.01315789, ..., 0.02786721, 0.25177049,\n        0.12414157],\n       [0.01072639, 0.72900158, 0.52399381, ..., 0.01953175, 0.83204813,\n        0.48705758],\n       [0.01104464, 0.40729002, 0.58204334, ..., 0.00556228, 0.80583998,\n        0.50501849]])"
          },
          "metadata": {}
        }
      ]
    },
    {
      "metadata": {
        "trusted": true
      },
      "cell_type": "code",
      "source": "numerical=pd.DataFrame(numerical)\nnumerical.columns=col_names\nx=pd.concat([numerical,categorical],1)",
      "execution_count": 36,
      "outputs": []
    },
    {
      "metadata": {
        "trusted": true
      },
      "cell_type": "code",
      "source": "from sklearn.metrics import r2_score, mean_squared_error, mean_absolute_error\nfrom sklearn.neighbors import KNeighborsRegressor\nfrom sklearn.model_selection import cross_val_score, GridSearchCV\nknn=KNeighborsRegressor(n_neighbors=5)\ncross_val_score(knn,x,y,cv=10, scoring=\"r2\")",
      "execution_count": 37,
      "outputs": [
        {
          "output_type": "execute_result",
          "execution_count": 37,
          "data": {
            "text/plain": "array([0.73669977, 0.74702889, 0.62634816, 0.69099834, 0.6544671 ,\n       0.81120102, 0.7446377 , 0.76684161, 0.90161633, 0.86892009])"
          },
          "metadata": {}
        }
      ]
    },
    {
      "metadata": {
        "trusted": true
      },
      "cell_type": "code",
      "source": "params={\"n_neighbors\":np.arange(1,10)}\nparams\nknn=KNeighborsRegressor()\nknn_cv=GridSearchCV(knn,param_grid=params,cv=10,scoring=\"r2\")",
      "execution_count": 38,
      "outputs": []
    },
    {
      "metadata": {
        "trusted": true,
        "scrolled": true
      },
      "cell_type": "code",
      "source": "knn_cv.fit(x,y)",
      "execution_count": 39,
      "outputs": [
        {
          "output_type": "execute_result",
          "execution_count": 39,
          "data": {
            "text/plain": "GridSearchCV(cv=10, error_score='raise',\n       estimator=KNeighborsRegressor(algorithm='auto', leaf_size=30, metric='minkowski',\n          metric_params=None, n_jobs=1, n_neighbors=5, p=2,\n          weights='uniform'),\n       fit_params=None, iid=True, n_jobs=1,\n       param_grid={'n_neighbors': array([1, 2, 3, 4, 5, 6, 7, 8, 9])},\n       pre_dispatch='2*n_jobs', refit=True, return_train_score='warn',\n       scoring='r2', verbose=0)"
          },
          "metadata": {}
        }
      ]
    },
    {
      "metadata": {
        "trusted": true
      },
      "cell_type": "code",
      "source": "knn_cv.best_estimator_",
      "execution_count": 40,
      "outputs": [
        {
          "output_type": "execute_result",
          "execution_count": 40,
          "data": {
            "text/plain": "KNeighborsRegressor(algorithm='auto', leaf_size=30, metric='minkowski',\n          metric_params=None, n_jobs=1, n_neighbors=4, p=2,\n          weights='uniform')"
          },
          "metadata": {}
        }
      ]
    },
    {
      "metadata": {
        "trusted": true
      },
      "cell_type": "code",
      "source": "knn_cv.best_score_",
      "execution_count": 41,
      "outputs": [
        {
          "output_type": "execute_result",
          "execution_count": 41,
          "data": {
            "text/plain": "0.7574880832829246"
          },
          "metadata": {}
        }
      ]
    },
    {
      "metadata": {
        "trusted": true
      },
      "cell_type": "code",
      "source": "from sklearn.model_selection import train_test_split as tts\nx_train,x_test,y_train,y_test = tts(x,y,test_size=0.2,random_state=42)\nknn.fit(x_train,y_train)\ny_pred=knn.predict(x_test)\nmean_squared_error(y_test,y_pred)\nnp.sqrt(mean_squared_error(y_test,y_pred))",
      "execution_count": 48,
      "outputs": [
        {
          "output_type": "execute_result",
          "execution_count": 48,
          "data": {
            "text/plain": "2.89163819115937"
          },
          "metadata": {}
        }
      ]
    },
    {
      "metadata": {
        "trusted": true
      },
      "cell_type": "code",
      "source": "r2_score(y_test,y_pred)",
      "execution_count": 47,
      "outputs": [
        {
          "output_type": "execute_result",
          "execution_count": 47,
          "data": {
            "text/plain": "0.8748111895269864"
          },
          "metadata": {}
        }
      ]
    },
    {
      "metadata": {
        "trusted": true
      },
      "cell_type": "code",
      "source": "x=x[features_by_filter_method]\nx.head()",
      "execution_count": 43,
      "outputs": [
        {
          "output_type": "execute_result",
          "execution_count": 43,
          "data": {
            "text/html": "<div>\n<style scoped>\n    .dataframe tbody tr th:only-of-type {\n        vertical-align: middle;\n    }\n\n    .dataframe tbody tr th {\n        vertical-align: top;\n    }\n\n    .dataframe thead th {\n        text-align: right;\n    }\n</style>\n<table border=\"1\" class=\"dataframe\">\n  <thead>\n    <tr style=\"text-align: right;\">\n      <th></th>\n      <th>HIV</th>\n      <th>GDP</th>\n      <th>BMI_female</th>\n      <th>child_mortality</th>\n    </tr>\n  </thead>\n  <tbody>\n    <tr>\n      <th>0</th>\n      <td>0.001548</td>\n      <td>0.093443</td>\n      <td>0.691602</td>\n      <td>0.141574</td>\n    </tr>\n    <tr>\n      <th>1</th>\n      <td>0.075077</td>\n      <td>0.051917</td>\n      <td>0.703734</td>\n      <td>1.000000</td>\n    </tr>\n    <tr>\n      <th>2</th>\n      <td>0.017028</td>\n      <td>0.112027</td>\n      <td>0.083681</td>\n      <td>0.067089</td>\n    </tr>\n    <tr>\n      <th>3</th>\n      <td>0.001548</td>\n      <td>0.054149</td>\n      <td>0.852002</td>\n      <td>0.091389</td>\n    </tr>\n    <tr>\n      <th>4</th>\n      <td>0.001548</td>\n      <td>0.324525</td>\n      <td>0.000000</td>\n      <td>0.013207</td>\n    </tr>\n  </tbody>\n</table>\n</div>",
            "text/plain": "        HIV       GDP  BMI_female  child_mortality\n0  0.001548  0.093443    0.691602         0.141574\n1  0.075077  0.051917    0.703734         1.000000\n2  0.017028  0.112027    0.083681         0.067089\n3  0.001548  0.054149    0.852002         0.091389\n4  0.001548  0.324525    0.000000         0.013207"
          },
          "metadata": {}
        }
      ]
    },
    {
      "metadata": {
        "trusted": true
      },
      "cell_type": "code",
      "source": "from sklearn.linear_model import LinearRegression, RidgeCV, LassoCV, ElasticNetCV\nx=df.drop([\"life\"],1)\ny=df[\"life\"]\nx=pd.get_dummies(x)\nscaler=MinMaxScaler()\ncol_names=list(x)\nx=scaler.fit_transform(x)\nx_train,x_test,y_train,y_test = tts(x,y,test_size=0.2,random_state=42)\nx=pd.DataFrame(x)\nx.columns=col_names\nx_train,x_test,y_train,y_test = tts(x,y,test_size=0.2,random_state=42)",
      "execution_count": 81,
      "outputs": []
    },
    {
      "metadata": {
        "trusted": true
      },
      "cell_type": "code",
      "source": "lin_reg=LinearRegression()\nlin_reg",
      "execution_count": 84,
      "outputs": [
        {
          "output_type": "execute_result",
          "execution_count": 84,
          "data": {
            "text/plain": "LinearRegression(copy_X=True, fit_intercept=True, n_jobs=1, normalize=False)"
          },
          "metadata": {}
        }
      ]
    },
    {
      "metadata": {
        "trusted": true
      },
      "cell_type": "code",
      "source": "lin_reg.fit(x_train,y_train)\ny_pred=lin_reg.predict(x_test)\nr2_score(y_test,y_pred)\nnp.sqrt(mean_squared_error(y_test,y_pred))",
      "execution_count": 86,
      "outputs": [
        {
          "output_type": "execute_result",
          "execution_count": 86,
          "data": {
            "text/plain": "2.346972417900388"
          },
          "metadata": {}
        }
      ]
    },
    {
      "metadata": {
        "trusted": true
      },
      "cell_type": "code",
      "source": "cross_val_score(lin_reg,x,y,cv=10)",
      "execution_count": 88,
      "outputs": [
        {
          "output_type": "execute_result",
          "execution_count": 88,
          "data": {
            "text/plain": "array([0.7167508 , 0.80157728, 0.81668174, 0.82942625, 0.7418073 ,\n       0.93913741, 0.83464389, 0.80949561, 0.95082034, 0.94307859])"
          },
          "metadata": {}
        }
      ]
    },
    {
      "metadata": {
        "trusted": true
      },
      "cell_type": "code",
      "source": "ridge= RidgeCV(alphas=np.arange(0.1,2,0.1))\nridge.fit(x,y)",
      "execution_count": 90,
      "outputs": [
        {
          "output_type": "execute_result",
          "execution_count": 90,
          "data": {
            "text/plain": "RidgeCV(alphas=array([0.1, 0.2, 0.3, 0.4, 0.5, 0.6, 0.7, 0.8, 0.9, 1. , 1.1, 1.2, 1.3,\n       1.4, 1.5, 1.6, 1.7, 1.8, 1.9]),\n    cv=None, fit_intercept=True, gcv_mode=None, normalize=False,\n    scoring=None, store_cv_values=False)"
          },
          "metadata": {}
        }
      ]
    },
    {
      "metadata": {
        "trusted": true
      },
      "cell_type": "code",
      "source": "#model of better fit\n#alpha_ gives the best penalty parameter(lamda)\nridge.alpha_",
      "execution_count": 94,
      "outputs": [
        {
          "output_type": "execute_result",
          "execution_count": 94,
          "data": {
            "text/plain": "0.2"
          },
          "metadata": {}
        }
      ]
    },
    {
      "metadata": {
        "trusted": true
      },
      "cell_type": "code",
      "source": "ridge.score(x,y)",
      "execution_count": 96,
      "outputs": [
        {
          "output_type": "execute_result",
          "execution_count": 96,
          "data": {
            "text/plain": "0.9031834826223613"
          },
          "metadata": {}
        }
      ]
    },
    {
      "metadata": {
        "trusted": true
      },
      "cell_type": "code",
      "source": "lasso=LassoCV(alphas=np.arange(0.1,2,0.1))",
      "execution_count": 97,
      "outputs": []
    },
    {
      "metadata": {
        "trusted": true
      },
      "cell_type": "code",
      "source": "lasso.fit(x,y)",
      "execution_count": 98,
      "outputs": [
        {
          "output_type": "execute_result",
          "execution_count": 98,
          "data": {
            "text/plain": "LassoCV(alphas=array([0.1, 0.2, 0.3, 0.4, 0.5, 0.6, 0.7, 0.8, 0.9, 1. , 1.1, 1.2, 1.3,\n       1.4, 1.5, 1.6, 1.7, 1.8, 1.9]),\n    copy_X=True, cv=None, eps=0.001, fit_intercept=True, max_iter=1000,\n    n_alphas=100, n_jobs=1, normalize=False, positive=False,\n    precompute='auto', random_state=None, selection='cyclic', tol=0.0001,\n    verbose=False)"
          },
          "metadata": {}
        }
      ]
    },
    {
      "metadata": {
        "trusted": true
      },
      "cell_type": "code",
      "source": "lasso.score(x,y)",
      "execution_count": 99,
      "outputs": [
        {
          "output_type": "execute_result",
          "execution_count": 99,
          "data": {
            "text/plain": "0.8825658083305495"
          },
          "metadata": {}
        }
      ]
    },
    {
      "metadata": {
        "trusted": true
      },
      "cell_type": "code",
      "source": "",
      "execution_count": null,
      "outputs": []
    }
  ],
  "metadata": {
    "kernelspec": {
      "name": "python36",
      "display_name": "Python 3.6",
      "language": "python"
    },
    "language_info": {
      "mimetype": "text/x-python",
      "nbconvert_exporter": "python",
      "name": "python",
      "pygments_lexer": "ipython3",
      "version": "3.6.6",
      "file_extension": ".py",
      "codemirror_mode": {
        "version": 3,
        "name": "ipython"
      }
    }
  },
  "nbformat": 4,
  "nbformat_minor": 2
}