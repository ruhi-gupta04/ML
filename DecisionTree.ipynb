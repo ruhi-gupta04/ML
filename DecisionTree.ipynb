{
  "cells": [
    {
      "metadata": {
        "trusted": true
      },
      "cell_type": "code",
      "source": "from sklearn.tree import DecisionTreeClassifier",
      "execution_count": 1,
      "outputs": []
    },
    {
      "metadata": {
        "trusted": true
      },
      "cell_type": "code",
      "source": "dtc=DecisionTreeClassifier()",
      "execution_count": 2,
      "outputs": []
    },
    {
      "metadata": {
        "trusted": true
      },
      "cell_type": "code",
      "source": "dtc",
      "execution_count": 3,
      "outputs": [
        {
          "output_type": "execute_result",
          "execution_count": 3,
          "data": {
            "text/plain": "DecisionTreeClassifier(class_weight=None, criterion='gini', max_depth=None,\n            max_features=None, max_leaf_nodes=None,\n            min_impurity_decrease=0.0, min_impurity_split=None,\n            min_samples_leaf=1, min_samples_split=2,\n            min_weight_fraction_leaf=0.0, presort=False, random_state=None,\n            splitter='best')"
          },
          "metadata": {}
        }
      ]
    },
    {
      "metadata": {
        "trusted": true
      },
      "cell_type": "code",
      "source": "import pandas as pd",
      "execution_count": 4,
      "outputs": []
    },
    {
      "metadata": {
        "trusted": true
      },
      "cell_type": "code",
      "source": "df=pd.read_csv(\"gapminder.csv\")",
      "execution_count": 5,
      "outputs": []
    },
    {
      "metadata": {
        "trusted": true
      },
      "cell_type": "code",
      "source": "from sklearn.preprocessing import LabelEncoder",
      "execution_count": 6,
      "outputs": []
    },
    {
      "metadata": {
        "trusted": true
      },
      "cell_type": "code",
      "source": "le=LabelEncoder()",
      "execution_count": 7,
      "outputs": []
    },
    {
      "metadata": {
        "trusted": true
      },
      "cell_type": "code",
      "source": "df[\"Region\"]=le.fit_transform(df[\"Region\"])",
      "execution_count": 8,
      "outputs": []
    },
    {
      "metadata": {
        "trusted": true
      },
      "cell_type": "code",
      "source": "x=df.drop([\"Region\"],1)\ny=df[\"Region\"]",
      "execution_count": 9,
      "outputs": []
    },
    {
      "metadata": {
        "trusted": true
      },
      "cell_type": "code",
      "source": "import numpy as np\nparams = {\"criterion\":[\"gini\",\"entropy\"],\n          \"max_depth\":np.arange(1,20),\n        \"min_samples_split\":np.arange(0.01,0.12,0.01)}",
      "execution_count": 10,
      "outputs": []
    },
    {
      "metadata": {
        "trusted": true
      },
      "cell_type": "code",
      "source": "from sklearn.model_selection import GridSearchCV",
      "execution_count": 11,
      "outputs": []
    },
    {
      "metadata": {
        "trusted": true
      },
      "cell_type": "code",
      "source": "dtc_cv=GridSearchCV(dtc,param_grid=params,cv=10)",
      "execution_count": 12,
      "outputs": []
    },
    {
      "metadata": {
        "trusted": true
      },
      "cell_type": "code",
      "source": "dtc_cv.fit(x,y)",
      "execution_count": 13,
      "outputs": [
        {
          "output_type": "stream",
          "text": "/home/nbuser/anaconda3_501/lib/python3.6/site-packages/sklearn/model_selection/_split.py:605: Warning: The least populated class in y has only 7 members, which is too few. The minimum number of members in any class cannot be less than n_splits=10.\n  % (min_groups, self.n_splits)), Warning)\n",
          "name": "stderr"
        },
        {
          "output_type": "execute_result",
          "execution_count": 13,
          "data": {
            "text/plain": "GridSearchCV(cv=10, error_score='raise',\n       estimator=DecisionTreeClassifier(class_weight=None, criterion='gini', max_depth=None,\n            max_features=None, max_leaf_nodes=None,\n            min_impurity_decrease=0.0, min_impurity_split=None,\n            min_samples_leaf=1, min_samples_split=2,\n            min_weight_fraction_leaf=0.0, presort=False, random_state=None,\n            splitter='best'),\n       fit_params=None, iid=True, n_jobs=1,\n       param_grid={'criterion': ['gini', 'entropy'], 'max_depth': array([ 1,  2,  3,  4,  5,  6,  7,  8,  9, 10, 11, 12, 13, 14, 15, 16, 17,\n       18, 19]), 'min_samples_split': array([0.01, 0.02, 0.03, 0.04, 0.05, 0.06, 0.07, 0.08, 0.09, 0.1 , 0.11])},\n       pre_dispatch='2*n_jobs', refit=True, return_train_score='warn',\n       scoring=None, verbose=0)"
          },
          "metadata": {}
        }
      ]
    },
    {
      "metadata": {
        "trusted": true,
        "scrolled": true
      },
      "cell_type": "code",
      "source": "dtc_cv.best_estimator_",
      "execution_count": 14,
      "outputs": [
        {
          "output_type": "execute_result",
          "execution_count": 14,
          "data": {
            "text/plain": "DecisionTreeClassifier(class_weight=None, criterion='gini', max_depth=9,\n            max_features=None, max_leaf_nodes=None,\n            min_impurity_decrease=0.0, min_impurity_split=None,\n            min_samples_leaf=1, min_samples_split=0.01,\n            min_weight_fraction_leaf=0.0, presort=False, random_state=None,\n            splitter='best')"
          },
          "metadata": {}
        }
      ]
    },
    {
      "metadata": {
        "trusted": true
      },
      "cell_type": "code",
      "source": "dtc_cv.best_score_",
      "execution_count": 15,
      "outputs": [
        {
          "output_type": "execute_result",
          "execution_count": 15,
          "data": {
            "text/plain": "0.7194244604316546"
          },
          "metadata": {}
        }
      ]
    },
    {
      "metadata": {
        "trusted": true
      },
      "cell_type": "code",
      "source": "dtc_cv.best_estimator_.feature_importances_",
      "execution_count": 16,
      "outputs": [
        {
          "output_type": "execute_result",
          "execution_count": 16,
          "data": {
            "text/plain": "array([0.02754166, 0.11244211, 0.11819359, 0.067992  , 0.13103694,\n       0.03869883, 0.12937924, 0.06417176, 0.31054387])"
          },
          "metadata": {}
        }
      ]
    },
    {
      "metadata": {
        "trusted": true
      },
      "cell_type": "code",
      "source": "x",
      "execution_count": 17,
      "outputs": [
        {
          "output_type": "execute_result",
          "execution_count": 17,
          "data": {
            "text/html": "<div>\n<style scoped>\n    .dataframe tbody tr th:only-of-type {\n        vertical-align: middle;\n    }\n\n    .dataframe tbody tr th {\n        vertical-align: top;\n    }\n\n    .dataframe thead th {\n        text-align: right;\n    }\n</style>\n<table border=\"1\" class=\"dataframe\">\n  <thead>\n    <tr style=\"text-align: right;\">\n      <th></th>\n      <th>population</th>\n      <th>fertility</th>\n      <th>HIV</th>\n      <th>CO2</th>\n      <th>BMI_male</th>\n      <th>GDP</th>\n      <th>BMI_female</th>\n      <th>life</th>\n      <th>child_mortality</th>\n    </tr>\n  </thead>\n  <tbody>\n    <tr>\n      <th>0</th>\n      <td>34811059.0</td>\n      <td>2.73</td>\n      <td>0.10</td>\n      <td>3.328945</td>\n      <td>24.59620</td>\n      <td>12314.0</td>\n      <td>129.9049</td>\n      <td>75.3</td>\n      <td>29.5</td>\n    </tr>\n    <tr>\n      <th>1</th>\n      <td>19842251.0</td>\n      <td>6.43</td>\n      <td>2.00</td>\n      <td>1.474353</td>\n      <td>22.25083</td>\n      <td>7103.0</td>\n      <td>130.1247</td>\n      <td>58.3</td>\n      <td>192.0</td>\n    </tr>\n    <tr>\n      <th>2</th>\n      <td>40381860.0</td>\n      <td>2.24</td>\n      <td>0.50</td>\n      <td>4.785170</td>\n      <td>27.50170</td>\n      <td>14646.0</td>\n      <td>118.8915</td>\n      <td>75.5</td>\n      <td>15.4</td>\n    </tr>\n    <tr>\n      <th>3</th>\n      <td>2975029.0</td>\n      <td>1.40</td>\n      <td>0.10</td>\n      <td>1.804106</td>\n      <td>25.35542</td>\n      <td>7383.0</td>\n      <td>132.8108</td>\n      <td>72.5</td>\n      <td>20.0</td>\n    </tr>\n    <tr>\n      <th>4</th>\n      <td>21370348.0</td>\n      <td>1.96</td>\n      <td>0.10</td>\n      <td>18.016313</td>\n      <td>27.56373</td>\n      <td>41312.0</td>\n      <td>117.3755</td>\n      <td>81.5</td>\n      <td>5.2</td>\n    </tr>\n    <tr>\n      <th>5</th>\n      <td>8331465.0</td>\n      <td>1.41</td>\n      <td>0.30</td>\n      <td>8.183160</td>\n      <td>26.46741</td>\n      <td>43952.0</td>\n      <td>124.1394</td>\n      <td>80.4</td>\n      <td>4.6</td>\n    </tr>\n    <tr>\n      <th>6</th>\n      <td>8868713.0</td>\n      <td>1.99</td>\n      <td>0.10</td>\n      <td>5.109538</td>\n      <td>25.65117</td>\n      <td>14365.0</td>\n      <td>128.6024</td>\n      <td>70.6</td>\n      <td>43.3</td>\n    </tr>\n    <tr>\n      <th>7</th>\n      <td>348587.0</td>\n      <td>1.89</td>\n      <td>3.10</td>\n      <td>3.131921</td>\n      <td>27.24594</td>\n      <td>24373.0</td>\n      <td>124.3862</td>\n      <td>72.2</td>\n      <td>14.5</td>\n    </tr>\n    <tr>\n      <th>8</th>\n      <td>148252473.0</td>\n      <td>2.38</td>\n      <td>0.06</td>\n      <td>0.319161</td>\n      <td>20.39742</td>\n      <td>2265.0</td>\n      <td>125.0307</td>\n      <td>68.4</td>\n      <td>55.9</td>\n    </tr>\n    <tr>\n      <th>9</th>\n      <td>277315.0</td>\n      <td>1.83</td>\n      <td>1.30</td>\n      <td>6.008279</td>\n      <td>26.38439</td>\n      <td>16075.0</td>\n      <td>126.3940</td>\n      <td>75.3</td>\n      <td>15.4</td>\n    </tr>\n    <tr>\n      <th>10</th>\n      <td>9526453.0</td>\n      <td>1.42</td>\n      <td>0.20</td>\n      <td>6.488174</td>\n      <td>26.16443</td>\n      <td>14488.0</td>\n      <td>129.7968</td>\n      <td>70.1</td>\n      <td>7.2</td>\n    </tr>\n    <tr>\n      <th>11</th>\n      <td>10779155.0</td>\n      <td>1.82</td>\n      <td>0.20</td>\n      <td>9.797337</td>\n      <td>26.75915</td>\n      <td>41641.0</td>\n      <td>121.8227</td>\n      <td>79.4</td>\n      <td>4.7</td>\n    </tr>\n    <tr>\n      <th>12</th>\n      <td>306165.0</td>\n      <td>2.91</td>\n      <td>2.40</td>\n      <td>1.360126</td>\n      <td>27.02255</td>\n      <td>8293.0</td>\n      <td>120.9224</td>\n      <td>70.7</td>\n      <td>20.1</td>\n    </tr>\n    <tr>\n      <th>13</th>\n      <td>8973525.0</td>\n      <td>5.27</td>\n      <td>1.20</td>\n      <td>0.537539</td>\n      <td>22.41835</td>\n      <td>1646.0</td>\n      <td>130.2723</td>\n      <td>63.2</td>\n      <td>116.3</td>\n    </tr>\n    <tr>\n      <th>14</th>\n      <td>694990.0</td>\n      <td>2.51</td>\n      <td>0.20</td>\n      <td>0.601210</td>\n      <td>22.82180</td>\n      <td>5663.0</td>\n      <td>125.1258</td>\n      <td>67.6</td>\n      <td>48.1</td>\n    </tr>\n    <tr>\n      <th>15</th>\n      <td>9599916.0</td>\n      <td>3.48</td>\n      <td>0.20</td>\n      <td>1.431829</td>\n      <td>24.43335</td>\n      <td>5066.0</td>\n      <td>122.4155</td>\n      <td>70.9</td>\n      <td>52.0</td>\n    </tr>\n    <tr>\n      <th>16</th>\n      <td>1967866.0</td>\n      <td>2.86</td>\n      <td>24.90</td>\n      <td>2.547205</td>\n      <td>22.12984</td>\n      <td>13858.0</td>\n      <td>133.1307</td>\n      <td>61.2</td>\n      <td>63.8</td>\n    </tr>\n    <tr>\n      <th>17</th>\n      <td>194769696.0</td>\n      <td>1.90</td>\n      <td>0.45</td>\n      <td>2.023773</td>\n      <td>25.78623</td>\n      <td>13906.0</td>\n      <td>124.8745</td>\n      <td>73.9</td>\n      <td>18.6</td>\n    </tr>\n    <tr>\n      <th>18</th>\n      <td>7513646.0</td>\n      <td>1.43</td>\n      <td>0.10</td>\n      <td>6.690139</td>\n      <td>26.54286</td>\n      <td>15368.0</td>\n      <td>128.4721</td>\n      <td>73.2</td>\n      <td>13.7</td>\n    </tr>\n    <tr>\n      <th>19</th>\n      <td>14709011.0</td>\n      <td>6.04</td>\n      <td>1.20</td>\n      <td>0.109419</td>\n      <td>21.27157</td>\n      <td>1358.0</td>\n      <td>130.6651</td>\n      <td>59.4</td>\n      <td>130.4</td>\n    </tr>\n    <tr>\n      <th>20</th>\n      <td>8821795.0</td>\n      <td>6.48</td>\n      <td>3.50</td>\n      <td>0.031389</td>\n      <td>21.50291</td>\n      <td>723.0</td>\n      <td>134.1955</td>\n      <td>57.4</td>\n      <td>108.6</td>\n    </tr>\n    <tr>\n      <th>21</th>\n      <td>13933660.0</td>\n      <td>3.05</td>\n      <td>0.60</td>\n      <td>0.287547</td>\n      <td>20.80496</td>\n      <td>2442.0</td>\n      <td>117.5528</td>\n      <td>66.2</td>\n      <td>51.5</td>\n    </tr>\n    <tr>\n      <th>22</th>\n      <td>19570418.0</td>\n      <td>5.17</td>\n      <td>5.30</td>\n      <td>0.295542</td>\n      <td>23.68173</td>\n      <td>2571.0</td>\n      <td>127.2823</td>\n      <td>56.6</td>\n      <td>113.8</td>\n    </tr>\n    <tr>\n      <th>23</th>\n      <td>33363256.0</td>\n      <td>1.68</td>\n      <td>0.20</td>\n      <td>16.350399</td>\n      <td>27.45210</td>\n      <td>41468.0</td>\n      <td>118.0571</td>\n      <td>80.7</td>\n      <td>5.8</td>\n    </tr>\n    <tr>\n      <th>24</th>\n      <td>11139740.0</td>\n      <td>6.81</td>\n      <td>3.40</td>\n      <td>0.047839</td>\n      <td>21.48569</td>\n      <td>1753.0</td>\n      <td>127.8640</td>\n      <td>54.8</td>\n      <td>168.0</td>\n    </tr>\n    <tr>\n      <th>25</th>\n      <td>16645940.0</td>\n      <td>1.89</td>\n      <td>0.40</td>\n      <td>4.240259</td>\n      <td>27.01542</td>\n      <td>18698.0</td>\n      <td>125.5417</td>\n      <td>78.9</td>\n      <td>8.9</td>\n    </tr>\n    <tr>\n      <th>26</th>\n      <td>44901660.0</td>\n      <td>2.43</td>\n      <td>0.50</td>\n      <td>1.476092</td>\n      <td>24.94041</td>\n      <td>10489.0</td>\n      <td>124.0235</td>\n      <td>75.1</td>\n      <td>19.7</td>\n    </tr>\n    <tr>\n      <th>27</th>\n      <td>665414.0</td>\n      <td>5.05</td>\n      <td>0.06</td>\n      <td>0.178853</td>\n      <td>22.06131</td>\n      <td>1440.0</td>\n      <td>132.1354</td>\n      <td>62.6</td>\n      <td>91.2</td>\n    </tr>\n    <tr>\n      <th>28</th>\n      <td>3832771.0</td>\n      <td>5.10</td>\n      <td>3.50</td>\n      <td>0.384220</td>\n      <td>21.87134</td>\n      <td>5022.0</td>\n      <td>131.6935</td>\n      <td>58.6</td>\n      <td>72.6</td>\n    </tr>\n    <tr>\n      <th>29</th>\n      <td>4429506.0</td>\n      <td>1.91</td>\n      <td>0.30</td>\n      <td>1.911933</td>\n      <td>26.47897</td>\n      <td>12219.0</td>\n      <td>121.3500</td>\n      <td>79.7</td>\n      <td>10.3</td>\n    </tr>\n    <tr>\n      <th>...</th>\n      <td>...</td>\n      <td>...</td>\n      <td>...</td>\n      <td>...</td>\n      <td>...</td>\n      <td>...</td>\n      <td>...</td>\n      <td>...</td>\n      <td>...</td>\n    </tr>\n    <tr>\n      <th>109</th>\n      <td>9109535.0</td>\n      <td>1.41</td>\n      <td>0.10</td>\n      <td>5.271223</td>\n      <td>26.51495</td>\n      <td>12522.0</td>\n      <td>130.3755</td>\n      <td>76.4</td>\n      <td>8.0</td>\n    </tr>\n    <tr>\n      <th>110</th>\n      <td>5521838.0</td>\n      <td>5.13</td>\n      <td>1.60</td>\n      <td>0.118256</td>\n      <td>22.53139</td>\n      <td>1289.0</td>\n      <td>134.7160</td>\n      <td>55.9</td>\n      <td>179.1</td>\n    </tr>\n    <tr>\n      <th>111</th>\n      <td>4849641.0</td>\n      <td>1.28</td>\n      <td>0.10</td>\n      <td>4.114441</td>\n      <td>23.83996</td>\n      <td>65991.0</td>\n      <td>121.1736</td>\n      <td>80.9</td>\n      <td>2.8</td>\n    </tr>\n    <tr>\n      <th>112</th>\n      <td>5396710.0</td>\n      <td>1.31</td>\n      <td>0.06</td>\n      <td>6.901654</td>\n      <td>26.92717</td>\n      <td>24670.0</td>\n      <td>129.5280</td>\n      <td>74.8</td>\n      <td>8.8</td>\n    </tr>\n    <tr>\n      <th>113</th>\n      <td>2030599.0</td>\n      <td>1.43</td>\n      <td>0.06</td>\n      <td>8.511828</td>\n      <td>27.43983</td>\n      <td>30816.0</td>\n      <td>129.9231</td>\n      <td>78.5</td>\n      <td>3.7</td>\n    </tr>\n    <tr>\n      <th>114</th>\n      <td>9132589.0</td>\n      <td>7.06</td>\n      <td>0.60</td>\n      <td>0.068219</td>\n      <td>21.96917</td>\n      <td>615.0</td>\n      <td>131.5318</td>\n      <td>56.7</td>\n      <td>168.5</td>\n    </tr>\n    <tr>\n      <th>115</th>\n      <td>50348811.0</td>\n      <td>2.54</td>\n      <td>17.90</td>\n      <td>9.427960</td>\n      <td>26.85538</td>\n      <td>12263.0</td>\n      <td>130.9949</td>\n      <td>55.0</td>\n      <td>66.1</td>\n    </tr>\n    <tr>\n      <th>116</th>\n      <td>45817016.0</td>\n      <td>1.42</td>\n      <td>0.40</td>\n      <td>7.293089</td>\n      <td>27.49975</td>\n      <td>34676.0</td>\n      <td>122.0453</td>\n      <td>81.1</td>\n      <td>5.0</td>\n    </tr>\n    <tr>\n      <th>117</th>\n      <td>19949553.0</td>\n      <td>2.32</td>\n      <td>0.06</td>\n      <td>0.580791</td>\n      <td>21.96671</td>\n      <td>6907.0</td>\n      <td>124.8615</td>\n      <td>74.3</td>\n      <td>11.7</td>\n    </tr>\n    <tr>\n      <th>118</th>\n      <td>34470138.0</td>\n      <td>4.79</td>\n      <td>1.00</td>\n      <td>0.382118</td>\n      <td>22.40484</td>\n      <td>3246.0</td>\n      <td>129.7199</td>\n      <td>67.4</td>\n      <td>84.7</td>\n    </tr>\n    <tr>\n      <th>119</th>\n      <td>506657.0</td>\n      <td>2.41</td>\n      <td>1.00</td>\n      <td>4.741140</td>\n      <td>25.49887</td>\n      <td>13470.0</td>\n      <td>124.6358</td>\n      <td>69.1</td>\n      <td>26.4</td>\n    </tr>\n    <tr>\n      <th>120</th>\n      <td>1153750.0</td>\n      <td>3.70</td>\n      <td>25.90</td>\n      <td>0.949861</td>\n      <td>23.16969</td>\n      <td>5887.0</td>\n      <td>131.8793</td>\n      <td>46.1</td>\n      <td>112.2</td>\n    </tr>\n    <tr>\n      <th>121</th>\n      <td>9226333.0</td>\n      <td>1.92</td>\n      <td>0.10</td>\n      <td>5.315688</td>\n      <td>26.37629</td>\n      <td>43421.0</td>\n      <td>122.9473</td>\n      <td>81.1</td>\n      <td>3.2</td>\n    </tr>\n    <tr>\n      <th>122</th>\n      <td>7646542.0</td>\n      <td>1.47</td>\n      <td>0.40</td>\n      <td>5.333058</td>\n      <td>26.20195</td>\n      <td>55020.0</td>\n      <td>119.6465</td>\n      <td>81.9</td>\n      <td>4.7</td>\n    </tr>\n    <tr>\n      <th>123</th>\n      <td>7254072.0</td>\n      <td>3.70</td>\n      <td>0.20</td>\n      <td>0.453168</td>\n      <td>23.77966</td>\n      <td>2001.0</td>\n      <td>129.9657</td>\n      <td>69.5</td>\n      <td>56.2</td>\n    </tr>\n    <tr>\n      <th>124</th>\n      <td>42844744.0</td>\n      <td>5.54</td>\n      <td>5.80</td>\n      <td>0.154673</td>\n      <td>22.47792</td>\n      <td>2030.0</td>\n      <td>130.8328</td>\n      <td>59.7</td>\n      <td>72.4</td>\n    </tr>\n    <tr>\n      <th>125</th>\n      <td>66453255.0</td>\n      <td>1.48</td>\n      <td>1.30</td>\n      <td>3.835102</td>\n      <td>23.00803</td>\n      <td>12216.0</td>\n      <td>120.4969</td>\n      <td>74.1</td>\n      <td>15.6</td>\n    </tr>\n    <tr>\n      <th>126</th>\n      <td>6052937.0</td>\n      <td>4.88</td>\n      <td>3.20</td>\n      <td>0.251983</td>\n      <td>21.87875</td>\n      <td>1219.0</td>\n      <td>131.0248</td>\n      <td>60.0</td>\n      <td>96.4</td>\n    </tr>\n    <tr>\n      <th>127</th>\n      <td>1315372.0</td>\n      <td>1.80</td>\n      <td>1.50</td>\n      <td>31.957717</td>\n      <td>26.39669</td>\n      <td>30875.0</td>\n      <td>124.9939</td>\n      <td>71.3</td>\n      <td>24.9</td>\n    </tr>\n    <tr>\n      <th>128</th>\n      <td>10408091.0</td>\n      <td>2.04</td>\n      <td>0.06</td>\n      <td>2.440669</td>\n      <td>25.15699</td>\n      <td>9938.0</td>\n      <td>128.6291</td>\n      <td>76.5</td>\n      <td>19.4</td>\n    </tr>\n    <tr>\n      <th>129</th>\n      <td>70344357.0</td>\n      <td>2.15</td>\n      <td>0.06</td>\n      <td>4.021903</td>\n      <td>26.70371</td>\n      <td>16454.0</td>\n      <td>124.0675</td>\n      <td>75.1</td>\n      <td>22.2</td>\n    </tr>\n    <tr>\n      <th>130</th>\n      <td>31014427.0</td>\n      <td>6.34</td>\n      <td>6.40</td>\n      <td>0.100853</td>\n      <td>22.35833</td>\n      <td>1437.0</td>\n      <td>134.5204</td>\n      <td>57.2</td>\n      <td>89.3</td>\n    </tr>\n    <tr>\n      <th>131</th>\n      <td>46028476.0</td>\n      <td>1.38</td>\n      <td>1.10</td>\n      <td>7.032359</td>\n      <td>25.42379</td>\n      <td>8762.0</td>\n      <td>131.4962</td>\n      <td>68.2</td>\n      <td>12.9</td>\n    </tr>\n    <tr>\n      <th>132</th>\n      <td>61689620.0</td>\n      <td>1.87</td>\n      <td>0.20</td>\n      <td>8.526467</td>\n      <td>27.39249</td>\n      <td>37739.0</td>\n      <td>124.0845</td>\n      <td>79.5</td>\n      <td>5.6</td>\n    </tr>\n    <tr>\n      <th>133</th>\n      <td>304473143.0</td>\n      <td>2.07</td>\n      <td>0.60</td>\n      <td>18.545992</td>\n      <td>28.45698</td>\n      <td>50384.0</td>\n      <td>118.4777</td>\n      <td>78.2</td>\n      <td>7.7</td>\n    </tr>\n    <tr>\n      <th>134</th>\n      <td>3350832.0</td>\n      <td>2.11</td>\n      <td>0.50</td>\n      <td>2.489764</td>\n      <td>26.39123</td>\n      <td>15317.0</td>\n      <td>124.2604</td>\n      <td>76.0</td>\n      <td>13.0</td>\n    </tr>\n    <tr>\n      <th>135</th>\n      <td>26952719.0</td>\n      <td>2.46</td>\n      <td>0.10</td>\n      <td>4.476669</td>\n      <td>25.32054</td>\n      <td>3733.0</td>\n      <td>124.3462</td>\n      <td>68.7</td>\n      <td>49.2</td>\n    </tr>\n    <tr>\n      <th>136</th>\n      <td>86589342.0</td>\n      <td>1.86</td>\n      <td>0.40</td>\n      <td>1.479347</td>\n      <td>20.91630</td>\n      <td>4085.0</td>\n      <td>121.9367</td>\n      <td>75.4</td>\n      <td>26.2</td>\n    </tr>\n    <tr>\n      <th>137</th>\n      <td>13114579.0</td>\n      <td>5.88</td>\n      <td>13.60</td>\n      <td>0.148982</td>\n      <td>20.68321</td>\n      <td>3039.0</td>\n      <td>132.4493</td>\n      <td>52.0</td>\n      <td>94.9</td>\n    </tr>\n    <tr>\n      <th>138</th>\n      <td>13495462.0</td>\n      <td>3.85</td>\n      <td>15.10</td>\n      <td>0.654323</td>\n      <td>22.02660</td>\n      <td>1286.0</td>\n      <td>131.9745</td>\n      <td>49.0</td>\n      <td>98.3</td>\n    </tr>\n  </tbody>\n</table>\n<p>139 rows × 9 columns</p>\n</div>",
            "text/plain": "      population  fertility    HIV        CO2  BMI_male      GDP  BMI_female  \\\n0     34811059.0       2.73   0.10   3.328945  24.59620  12314.0    129.9049   \n1     19842251.0       6.43   2.00   1.474353  22.25083   7103.0    130.1247   \n2     40381860.0       2.24   0.50   4.785170  27.50170  14646.0    118.8915   \n3      2975029.0       1.40   0.10   1.804106  25.35542   7383.0    132.8108   \n4     21370348.0       1.96   0.10  18.016313  27.56373  41312.0    117.3755   \n5      8331465.0       1.41   0.30   8.183160  26.46741  43952.0    124.1394   \n6      8868713.0       1.99   0.10   5.109538  25.65117  14365.0    128.6024   \n7       348587.0       1.89   3.10   3.131921  27.24594  24373.0    124.3862   \n8    148252473.0       2.38   0.06   0.319161  20.39742   2265.0    125.0307   \n9       277315.0       1.83   1.30   6.008279  26.38439  16075.0    126.3940   \n10     9526453.0       1.42   0.20   6.488174  26.16443  14488.0    129.7968   \n11    10779155.0       1.82   0.20   9.797337  26.75915  41641.0    121.8227   \n12      306165.0       2.91   2.40   1.360126  27.02255   8293.0    120.9224   \n13     8973525.0       5.27   1.20   0.537539  22.41835   1646.0    130.2723   \n14      694990.0       2.51   0.20   0.601210  22.82180   5663.0    125.1258   \n15     9599916.0       3.48   0.20   1.431829  24.43335   5066.0    122.4155   \n16     1967866.0       2.86  24.90   2.547205  22.12984  13858.0    133.1307   \n17   194769696.0       1.90   0.45   2.023773  25.78623  13906.0    124.8745   \n18     7513646.0       1.43   0.10   6.690139  26.54286  15368.0    128.4721   \n19    14709011.0       6.04   1.20   0.109419  21.27157   1358.0    130.6651   \n20     8821795.0       6.48   3.50   0.031389  21.50291    723.0    134.1955   \n21    13933660.0       3.05   0.60   0.287547  20.80496   2442.0    117.5528   \n22    19570418.0       5.17   5.30   0.295542  23.68173   2571.0    127.2823   \n23    33363256.0       1.68   0.20  16.350399  27.45210  41468.0    118.0571   \n24    11139740.0       6.81   3.40   0.047839  21.48569   1753.0    127.8640   \n25    16645940.0       1.89   0.40   4.240259  27.01542  18698.0    125.5417   \n26    44901660.0       2.43   0.50   1.476092  24.94041  10489.0    124.0235   \n27      665414.0       5.05   0.06   0.178853  22.06131   1440.0    132.1354   \n28     3832771.0       5.10   3.50   0.384220  21.87134   5022.0    131.6935   \n29     4429506.0       1.91   0.30   1.911933  26.47897  12219.0    121.3500   \n..           ...        ...    ...        ...       ...      ...         ...   \n109    9109535.0       1.41   0.10   5.271223  26.51495  12522.0    130.3755   \n110    5521838.0       5.13   1.60   0.118256  22.53139   1289.0    134.7160   \n111    4849641.0       1.28   0.10   4.114441  23.83996  65991.0    121.1736   \n112    5396710.0       1.31   0.06   6.901654  26.92717  24670.0    129.5280   \n113    2030599.0       1.43   0.06   8.511828  27.43983  30816.0    129.9231   \n114    9132589.0       7.06   0.60   0.068219  21.96917    615.0    131.5318   \n115   50348811.0       2.54  17.90   9.427960  26.85538  12263.0    130.9949   \n116   45817016.0       1.42   0.40   7.293089  27.49975  34676.0    122.0453   \n117   19949553.0       2.32   0.06   0.580791  21.96671   6907.0    124.8615   \n118   34470138.0       4.79   1.00   0.382118  22.40484   3246.0    129.7199   \n119     506657.0       2.41   1.00   4.741140  25.49887  13470.0    124.6358   \n120    1153750.0       3.70  25.90   0.949861  23.16969   5887.0    131.8793   \n121    9226333.0       1.92   0.10   5.315688  26.37629  43421.0    122.9473   \n122    7646542.0       1.47   0.40   5.333058  26.20195  55020.0    119.6465   \n123    7254072.0       3.70   0.20   0.453168  23.77966   2001.0    129.9657   \n124   42844744.0       5.54   5.80   0.154673  22.47792   2030.0    130.8328   \n125   66453255.0       1.48   1.30   3.835102  23.00803  12216.0    120.4969   \n126    6052937.0       4.88   3.20   0.251983  21.87875   1219.0    131.0248   \n127    1315372.0       1.80   1.50  31.957717  26.39669  30875.0    124.9939   \n128   10408091.0       2.04   0.06   2.440669  25.15699   9938.0    128.6291   \n129   70344357.0       2.15   0.06   4.021903  26.70371  16454.0    124.0675   \n130   31014427.0       6.34   6.40   0.100853  22.35833   1437.0    134.5204   \n131   46028476.0       1.38   1.10   7.032359  25.42379   8762.0    131.4962   \n132   61689620.0       1.87   0.20   8.526467  27.39249  37739.0    124.0845   \n133  304473143.0       2.07   0.60  18.545992  28.45698  50384.0    118.4777   \n134    3350832.0       2.11   0.50   2.489764  26.39123  15317.0    124.2604   \n135   26952719.0       2.46   0.10   4.476669  25.32054   3733.0    124.3462   \n136   86589342.0       1.86   0.40   1.479347  20.91630   4085.0    121.9367   \n137   13114579.0       5.88  13.60   0.148982  20.68321   3039.0    132.4493   \n138   13495462.0       3.85  15.10   0.654323  22.02660   1286.0    131.9745   \n\n     life  child_mortality  \n0    75.3             29.5  \n1    58.3            192.0  \n2    75.5             15.4  \n3    72.5             20.0  \n4    81.5              5.2  \n5    80.4              4.6  \n6    70.6             43.3  \n7    72.2             14.5  \n8    68.4             55.9  \n9    75.3             15.4  \n10   70.1              7.2  \n11   79.4              4.7  \n12   70.7             20.1  \n13   63.2            116.3  \n14   67.6             48.1  \n15   70.9             52.0  \n16   61.2             63.8  \n17   73.9             18.6  \n18   73.2             13.7  \n19   59.4            130.4  \n20   57.4            108.6  \n21   66.2             51.5  \n22   56.6            113.8  \n23   80.7              5.8  \n24   54.8            168.0  \n25   78.9              8.9  \n26   75.1             19.7  \n27   62.6             91.2  \n28   58.6             72.6  \n29   79.7             10.3  \n..    ...              ...  \n109  76.4              8.0  \n110  55.9            179.1  \n111  80.9              2.8  \n112  74.8              8.8  \n113  78.5              3.7  \n114  56.7            168.5  \n115  55.0             66.1  \n116  81.1              5.0  \n117  74.3             11.7  \n118  67.4             84.7  \n119  69.1             26.4  \n120  46.1            112.2  \n121  81.1              3.2  \n122  81.9              4.7  \n123  69.5             56.2  \n124  59.7             72.4  \n125  74.1             15.6  \n126  60.0             96.4  \n127  71.3             24.9  \n128  76.5             19.4  \n129  75.1             22.2  \n130  57.2             89.3  \n131  68.2             12.9  \n132  79.5              5.6  \n133  78.2              7.7  \n134  76.0             13.0  \n135  68.7             49.2  \n136  75.4             26.2  \n137  52.0             94.9  \n138  49.0             98.3  \n\n[139 rows x 9 columns]"
          },
          "metadata": {}
        }
      ]
    },
    {
      "metadata": {
        "trusted": true
      },
      "cell_type": "code",
      "source": "",
      "execution_count": null,
      "outputs": []
    }
  ],
  "metadata": {
    "kernelspec": {
      "name": "python36",
      "display_name": "Python 3.6",
      "language": "python"
    },
    "language_info": {
      "mimetype": "text/x-python",
      "nbconvert_exporter": "python",
      "name": "python",
      "pygments_lexer": "ipython3",
      "version": "3.6.6",
      "file_extension": ".py",
      "codemirror_mode": {
        "version": 3,
        "name": "ipython"
      }
    }
  },
  "nbformat": 4,
  "nbformat_minor": 2
}